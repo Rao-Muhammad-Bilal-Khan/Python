{
 "cells": [
  {
   "cell_type": "code",
   "execution_count": 2,
   "metadata": {},
   "outputs": [
    {
     "ename": "AttributeError",
     "evalue": "'Apartment' object has no attribute 'owner'",
     "output_type": "error",
     "traceback": [
      "\u001b[1;31m---------------------------------------------------------------------------\u001b[0m",
      "\u001b[1;31mAttributeError\u001b[0m                            Traceback (most recent call last)",
      "\u001b[1;32m<ipython-input-2-57ee47d5794a>\u001b[0m in \u001b[0;36m<module>\u001b[1;34m\u001b[0m\n\u001b[0;32m     28\u001b[0m \u001b[1;33m\u001b[0m\u001b[0m\n\u001b[0;32m     29\u001b[0m \u001b[0mhouse_1\u001b[0m\u001b[1;33m=\u001b[0m\u001b[0mApartment\u001b[0m\u001b[1;33m(\u001b[0m\u001b[1;33m)\u001b[0m\u001b[1;33m\u001b[0m\u001b[1;33m\u001b[0m\u001b[0m\n\u001b[1;32m---> 30\u001b[1;33m \u001b[0mprint\u001b[0m\u001b[1;33m(\u001b[0m\u001b[0mhouse_1\u001b[0m\u001b[1;33m.\u001b[0m\u001b[0mlocation\u001b[0m\u001b[1;33m(\u001b[0m\u001b[1;34m'8-98'\u001b[0m\u001b[1;33m)\u001b[0m\u001b[1;33m)\u001b[0m\u001b[1;33m\u001b[0m\u001b[1;33m\u001b[0m\u001b[0m\n\u001b[0m\u001b[0;32m     31\u001b[0m \u001b[0mprint\u001b[0m\u001b[1;33m(\u001b[0m\u001b[0mhouse_1\u001b[0m\u001b[1;33m.\u001b[0m\u001b[0mparking\u001b[0m\u001b[1;33m(\u001b[0m\u001b[1;34m'Yes'\u001b[0m\u001b[1;33m)\u001b[0m\u001b[1;33m,\u001b[0m\u001b[1;34m'\\n'\u001b[0m\u001b[1;33m)\u001b[0m\u001b[1;33m\u001b[0m\u001b[1;33m\u001b[0m\u001b[0m\n\u001b[0;32m     32\u001b[0m \u001b[1;33m\u001b[0m\u001b[0m\n",
      "\u001b[1;32m<ipython-input-2-57ee47d5794a>\u001b[0m in \u001b[0;36mlocation\u001b[1;34m(self, locat)\u001b[0m\n\u001b[0;32m      6\u001b[0m     \u001b[1;32mdef\u001b[0m \u001b[0mlocation\u001b[0m\u001b[1;33m(\u001b[0m\u001b[0mself\u001b[0m\u001b[1;33m,\u001b[0m\u001b[0mlocat\u001b[0m\u001b[1;33m)\u001b[0m\u001b[1;33m:\u001b[0m\u001b[1;33m\u001b[0m\u001b[1;33m\u001b[0m\u001b[0m\n\u001b[0;32m      7\u001b[0m         \u001b[0mself\u001b[0m\u001b[1;33m.\u001b[0m\u001b[0mlocat\u001b[0m\u001b[1;33m=\u001b[0m\u001b[0mlocat\u001b[0m\u001b[1;33m\u001b[0m\u001b[1;33m\u001b[0m\u001b[0m\n\u001b[1;32m----> 8\u001b[1;33m         \u001b[1;32mreturn\u001b[0m\u001b[1;34m'{}\\'s house is located at {}'\u001b[0m\u001b[1;33m.\u001b[0m\u001b[0mformat\u001b[0m\u001b[1;33m(\u001b[0m\u001b[0mself\u001b[0m\u001b[1;33m.\u001b[0m\u001b[0mowner\u001b[0m\u001b[1;33m,\u001b[0m\u001b[0mself\u001b[0m\u001b[1;33m.\u001b[0m\u001b[0mlocat\u001b[0m\u001b[1;33m)\u001b[0m\u001b[1;33m\u001b[0m\u001b[1;33m\u001b[0m\u001b[0m\n\u001b[0m\u001b[0;32m      9\u001b[0m     \u001b[1;32mdef\u001b[0m \u001b[0mrooms\u001b[0m\u001b[1;33m(\u001b[0m\u001b[0mself\u001b[0m\u001b[1;33m,\u001b[0m\u001b[0mroom\u001b[0m\u001b[1;33m)\u001b[0m\u001b[1;33m:\u001b[0m\u001b[1;33m\u001b[0m\u001b[1;33m\u001b[0m\u001b[0m\n\u001b[0;32m     10\u001b[0m         \u001b[0mself\u001b[0m\u001b[1;33m.\u001b[0m\u001b[0mroom\u001b[0m\u001b[1;33m=\u001b[0m\u001b[0mroom\u001b[0m\u001b[1;33m\u001b[0m\u001b[1;33m\u001b[0m\u001b[0m\n",
      "\u001b[1;31mAttributeError\u001b[0m: 'Apartment' object has no attribute 'owner'"
     ]
    }
   ],
   "source": [
    "#task3\n",
    "class Houses:\n",
    "    structure=\"building\"\n",
    "    def init(self,owner):\n",
    "        self.owner=owner\n",
    "    def location(self,locat):\n",
    "        self.locat=locat\n",
    "        return'{}\\'s house is located at {}'.format(self.owner,self.locat)\n",
    "    def rooms(self,room):\n",
    "        self.room=room\n",
    "        return'{}\\'s house has {} rooms'.format(self.owner,self.room)\n",
    "    def parking(self,avail):\n",
    "        self.avail=avail\n",
    "        return 'Is parking available? {}'.format(self.avail)\n",
    "    \n",
    "class Apartment(Houses):\n",
    "    house_type=\"apartent\"\n",
    "    def features(self,ft):\n",
    "        return'{}\\'s house has {}'.format(self.owner,ft)\n",
    "class Bungalow(Houses):\n",
    "    house_type='Bungalow'\n",
    "    def feature(self,ft):\n",
    "        return'{}\\'s house has {}'.format(self.owner,ft)\n",
    "class cottage(Houses):\n",
    "    house_type='cottage'\n",
    "    def feature(self,ft):\n",
    "        return'{}\\'s house has {}'.format(self.owner,ft)\n",
    "    \n",
    "house_1=Apartment('Moin')\n",
    "print(house_1.location('8-98'))\n",
    "print(house_1.parking('Yes'),'\\n')\n",
    "\n",
    "house_2=cottage('Ahmed')\n",
    "print(house_2.rooms(6))\n",
    "print(house_2.feature('terrace')\n",
    "        \n",
    "    "
   ]
  },
  {
   "cell_type": "code",
   "execution_count": null,
   "metadata": {},
   "outputs": [],
   "source": []
  }
 ],
 "metadata": {
  "kernelspec": {
   "display_name": "Python 3",
   "language": "python",
   "name": "python3"
  },
  "language_info": {
   "codemirror_mode": {
    "name": "ipython",
    "version": 3
   },
   "file_extension": ".py",
   "mimetype": "text/x-python",
   "name": "python",
   "nbconvert_exporter": "python",
   "pygments_lexer": "ipython3",
   "version": "3.9.1"
  }
 },
 "nbformat": 4,
 "nbformat_minor": 4
}
