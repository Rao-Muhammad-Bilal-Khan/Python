{
 "cells": [
  {
   "cell_type": "code",
   "execution_count": 1,
   "metadata": {},
   "outputs": [
    {
     "name": "stdout",
     "output_type": "stream",
     "text": [
      "[[4, 5, 6, 8, 10, 12, 12, 15, 18, 16, 20, 24, 20, 25, 30, 24, 30, 36, 28, 35, 42, 32, 40, 48, 36, 45, 54, 40, 50, 60]]\n"
     ]
    }
   ],
   "source": [
    "table=[[x*y for y in range(1,11)for x in range(4,7)]]\n",
    "print(table)"
   ]
  },
  {
   "cell_type": "code",
   "execution_count": 2,
   "metadata": {},
   "outputs": [
    {
     "name": "stdout",
     "output_type": "stream",
     "text": [
      "Positive numbers in list:  [93, 11]\n",
      "Negative numbers in list:  [-10, -21, -4, -45, -66]\n"
     ]
    }
   ],
   "source": [
    "list_1=[-10,-21,-4,-45,-66,93,11]\n",
    "pos=[num for num in list_1 if num>=1]\n",
    "neg=[h for h in list_1 if h not in pos]\n",
    "print(\"Positive numbers in list: \",pos)\n",
    "print(\"Negative numbers in list: \",neg)"
   ]
  },
  {
   "cell_type": "code",
   "execution_count": 4,
   "metadata": {},
   "outputs": [
    {
     "name": "stdout",
     "output_type": "stream",
     "text": [
      "{14: 14, 28: 28, 42: 42, 56: 56, 70: 70, 84: 84, 98: 98}\n"
     ]
    }
   ],
   "source": [
    "numbers=range(100)\n",
    "dict_com={n:n for n in numbers if n>5 if n%2 ==0 if n%7==0}\n",
    "print(dict_com)"
   ]
  },
  {
   "cell_type": "code",
   "execution_count": 6,
   "metadata": {},
   "outputs": [
    {
     "name": "stdout",
     "output_type": "stream",
     "text": [
      "[5, 7, 8, 10, 11]\n",
      "[0, 1, 4, 9, 16, 25, 49, 64, 100, 121]\n",
      "120\n"
     ]
    }
   ],
   "source": [
    "sequence={10,2,8,7,5,4,3,11,0,1}\n",
    "filter_result= filter(lambda x: x>4, sequence)\n",
    "print(list(filter_result))\n",
    "sequence={10,2,8,7,5,4,3,11,0,1}\n",
    "filter_result=map(lambda x:x*x,sequence)\n",
    "print(list(filter_result))\n",
    "from functools import reduce\n",
    "sequence={1,2,3,4,5}\n",
    "product=reduce(lambda x,y:x*y,sequence)\n",
    "print(product)"
   ]
  },
  {
   "cell_type": "code",
   "execution_count": 9,
   "metadata": {},
   "outputs": [
    {
     "name": "stdout",
     "output_type": "stream",
     "text": [
      "[<function <listcomp>.<lambda> at 0x0000025C938558B0>, <function <listcomp>.<lambda> at 0x0000025C93855700>, <function <listcomp>.<lambda> at 0x0000025C93855670>]\n",
      "[4, 8, 12, 16, 20, 24, 28, 32, 36, 40]\n",
      "[5, 10, 15, 20, 25, 30, 35, 40, 45, 50]\n",
      "[6, 12, 18, 24, 30, 36, 42, 48, 54, 60]\n"
     ]
    }
   ],
   "source": [
    "listofLambda=[lambda x=x:[x*y for y in range(1,11)] for x in range(4,7)]\n",
    "print(listofLambda)\n",
    "for f in listofLambda:\n",
    "    print(f())"
   ]
  },
  {
   "cell_type": "code",
   "execution_count": null,
   "metadata": {},
   "outputs": [],
   "source": []
  }
 ],
 "metadata": {
  "kernelspec": {
   "display_name": "Python 3",
   "language": "python",
   "name": "python3"
  },
  "language_info": {
   "codemirror_mode": {
    "name": "ipython",
    "version": 3
   },
   "file_extension": ".py",
   "mimetype": "text/x-python",
   "name": "python",
   "nbconvert_exporter": "python",
   "pygments_lexer": "ipython3",
   "version": "3.9.1"
  }
 },
 "nbformat": 4,
 "nbformat_minor": 4
}
