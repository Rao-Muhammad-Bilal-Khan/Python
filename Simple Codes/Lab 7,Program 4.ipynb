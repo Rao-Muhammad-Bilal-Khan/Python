{
 "cells": [
  {
   "cell_type": "code",
   "execution_count": 3,
   "metadata": {},
   "outputs": [
    {
     "name": "stdout",
     "output_type": "stream",
     "text": [
      "Enter file name duplicate.txt\n",
      "Enter target HELLO\n",
      "None\n"
     ]
    }
   ],
   "source": [
    "def myGrep(name,target):\n",
    "    infile=open(name,'r')\n",
    "    line=name.split()\n",
    "    for line in name:\n",
    "        if target in line:\n",
    "            print(line, ends=\" \")\n",
    "#driver's Code\n",
    "name=input(\"Enter file name \")\n",
    "target=input(\"Enter target \")\n",
    "print(myGrep(name,target))"
   ]
  },
  {
   "cell_type": "code",
   "execution_count": null,
   "metadata": {},
   "outputs": [],
   "source": []
  }
 ],
 "metadata": {
  "kernelspec": {
   "display_name": "Python 3",
   "language": "python",
   "name": "python3"
  },
  "language_info": {
   "codemirror_mode": {
    "name": "ipython",
    "version": 3
   },
   "file_extension": ".py",
   "mimetype": "text/x-python",
   "name": "python",
   "nbconvert_exporter": "python",
   "pygments_lexer": "ipython3",
   "version": "3.9.1"
  }
 },
 "nbformat": 4,
 "nbformat_minor": 4
}
