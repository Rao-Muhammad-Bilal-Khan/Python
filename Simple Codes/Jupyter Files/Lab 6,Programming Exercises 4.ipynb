{
 "cells": [
  {
   "cell_type": "code",
   "execution_count": 8,
   "metadata": {},
   "outputs": [
    {
     "name": "stdout",
     "output_type": "stream",
     "text": [
      "Name: Parkash Lohana\n",
      "des: Assistant Professor\n",
      "dept:Computer science\n",
      "Address:Usman Institute of Technology\n",
      "area_code:Gulshan e Iqbal, 75300\n",
      "city: Karachi\n",
      "None\n"
     ]
    }
   ],
   "source": [
    "def mailaddress(name,des,dept,address,city):\n",
    "    print(\"Name: {}\\ndes: {}\\ndept:{}\\nAddress:{}\\narea_code:{}\\ncity: {}\".format(name,des,dept,address,area,city))\n",
    "name=\"Parkash Lohana\"\n",
    "des=\"Assistant Professor\"\n",
    "dept=\"Computer science\"\n",
    "address=\"Usman Institute of Technology\"\n",
    "area=\"Gulshan e Iqbal, 75300\"\n",
    "city=\"Karachi\"\n",
    "print(mailaddress(name,des,dept,address,city))\n"
   ]
  },
  {
   "cell_type": "code",
   "execution_count": null,
   "metadata": {},
   "outputs": [],
   "source": []
  }
 ],
 "metadata": {
  "kernelspec": {
   "display_name": "Python 3",
   "language": "python",
   "name": "python3"
  },
  "language_info": {
   "codemirror_mode": {
    "name": "ipython",
    "version": 3
   },
   "file_extension": ".py",
   "mimetype": "text/x-python",
   "name": "python",
   "nbconvert_exporter": "python",
   "pygments_lexer": "ipython3",
   "version": "3.9.1"
  }
 },
 "nbformat": 4,
 "nbformat_minor": 4
}
