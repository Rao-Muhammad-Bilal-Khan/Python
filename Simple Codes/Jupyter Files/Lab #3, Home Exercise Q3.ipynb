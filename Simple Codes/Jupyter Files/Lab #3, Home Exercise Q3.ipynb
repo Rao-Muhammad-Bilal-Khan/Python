{
 "cells": [
  {
   "cell_type": "code",
   "execution_count": 8,
   "metadata": {},
   "outputs": [
    {
     "name": "stdout",
     "output_type": "stream",
     "text": [
      "Enter the length of the ladder: 24\n",
      "Enter the angle of the ladder: 80\n",
      "The height of the ladder is:  -23.853327694161006\n"
     ]
    }
   ],
   "source": [
    "import math\n",
    "length=int(input(\"Enter the length of the ladder: \"))\n",
    "angle=int(input(\"Enter the angle of the ladder: \"))\n",
    "ang_rad=(3.142*angle/180)\n",
    "from math import sin\n",
    "height_ladder=length*sin(angle)\n",
    "print(\"The height of the ladder is: \",height_ladder)"
   ]
  }
 ],
 "metadata": {
  "kernelspec": {
   "display_name": "Python 3",
   "language": "python",
   "name": "python3"
  },
  "language_info": {
   "codemirror_mode": {
    "name": "ipython",
    "version": 3
   },
   "file_extension": ".py",
   "mimetype": "text/x-python",
   "name": "python",
   "nbconvert_exporter": "python",
   "pygments_lexer": "ipython3",
   "version": "3.9.1"
  }
 },
 "nbformat": 4,
 "nbformat_minor": 4
}
