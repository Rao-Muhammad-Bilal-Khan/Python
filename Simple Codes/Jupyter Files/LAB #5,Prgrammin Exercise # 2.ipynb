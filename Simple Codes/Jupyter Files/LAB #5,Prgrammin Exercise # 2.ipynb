{
 "cells": [
  {
   "cell_type": "code",
   "execution_count": 4,
   "metadata": {},
   "outputs": [
    {
     "name": "stdout",
     "output_type": "stream",
     "text": [
      "Enter yes if you want progression or no if you don't want yes\n",
      "Enter the 1st value of your arthematic progression: 3\n",
      "Enter the common difference: 35\n",
      "Enter the nth term you want to calculate 67\n",
      "The nth term will be:  2313\n",
      "Write your answer in yes or no only\n",
      "Do you want to continue? yes\n",
      "Enter the 1st value of your arthematic progression: 5\n",
      "Enter the common difference: 7\n",
      "Enter the nth term you want to calculate 48\n",
      "The nth term will be:  334\n",
      "Write your answer in yes or no only\n",
      "Do you want to continue? no\n",
      "Program finishing\n"
     ]
    }
   ],
   "source": [
    "question=input(\"Enter yes if you want progression or no if you don't want \")\n",
    "if question == \"yes\":\n",
    "    a=int(input(\"Enter the 1st value of your arthematic progression: \"))\n",
    "    d=int(input(\"Enter the common difference: \"))\n",
    "    n=int(input(\"Enter the nth term you want to calculate \"))\n",
    "    answer=(a+(n-1)*d)\n",
    "    print(\"The nth term will be: \",answer)\n",
    "elif question==\"no\":\n",
    "    print(\"Program finishing\")\n",
    "while question == \"yes\":\n",
    "    print(\"Write your answer in yes or no only\")\n",
    "    question=input(\"Do you want to continue? \")\n",
    "    if question==\"yes\":\n",
    "       a=int(input(\"Enter the 1st value of your arthematic progression: \"))\n",
    "       d=int(input(\"Enter the common difference: \"))\n",
    "       n=int(input(\"Enter the nth term you want to calculate \"))\n",
    "       answer=(a+(n-1)*d)\n",
    "       print(\"The nth term will be: \",answer)\n",
    "    elif question== \"no\":\n",
    "        print(\"Program finishing\")"
   ]
  },
  {
   "cell_type": "markdown",
   "metadata": {},
   "source": [
    "###### "
   ]
  }
 ],
 "metadata": {
  "kernelspec": {
   "display_name": "Python 3",
   "language": "python",
   "name": "python3"
  },
  "language_info": {
   "codemirror_mode": {
    "name": "ipython",
    "version": 3
   },
   "file_extension": ".py",
   "mimetype": "text/x-python",
   "name": "python",
   "nbconvert_exporter": "python",
   "pygments_lexer": "ipython3",
   "version": "3.9.1"
  }
 },
 "nbformat": 4,
 "nbformat_minor": 4
}
