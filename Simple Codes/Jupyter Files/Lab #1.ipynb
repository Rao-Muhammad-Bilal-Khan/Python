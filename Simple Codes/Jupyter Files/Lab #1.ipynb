{
 "cells": [
  {
   "cell_type": "code",
   "execution_count": 2,
   "metadata": {},
   "outputs": [
    {
     "name": "stdout",
     "output_type": "stream",
     "text": [
      "Enter an adjective for object: silly\n",
      "Enter the noun for the object: ball\n",
      "Enter the verb for the object: danced\n",
      "Enter the animal name: dog\n",
      "Enter the colour of the animal: violet\n",
      "The silly ball danced over the lazy violet dog\n"
     ]
    }
   ],
   "source": [
    "adjective=input(\"Enter an adjective for object: \")\n",
    "noun=input(\"Enter the noun for the object: \")\n",
    "verb=input(\"Enter the verb for the object: \") \n",
    "animal=input(\"Enter the animal name: \")\n",
    "colour=input(\"Enter the colour of the animal: \")\n",
    "print(\"The\",adjective,noun,verb,\"over the lazy\",colour,animal)"
   ]
  }
 ],
 "metadata": {
  "kernelspec": {
   "display_name": "Python 3",
   "language": "python",
   "name": "python3"
  },
  "language_info": {
   "codemirror_mode": {
    "name": "ipython",
    "version": 3
   },
   "file_extension": ".py",
   "mimetype": "text/x-python",
   "name": "python",
   "nbconvert_exporter": "python",
   "pygments_lexer": "ipython3",
   "version": "3.9.1"
  }
 },
 "nbformat": 4,
 "nbformat_minor": 4
}
