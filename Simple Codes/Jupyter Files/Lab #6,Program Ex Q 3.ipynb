{
 "cells": [
  {
   "cell_type": "code",
   "execution_count": 6,
   "metadata": {},
   "outputs": [
    {
     "name": "stdout",
     "output_type": "stream",
     "text": [
      "Enter the number:  17\n",
      "2 3 4 6 8 9 10 12 14 15 16 None\n"
     ]
    }
   ],
   "source": [
    "def even(num):\n",
    "    for n in range(2,num):\n",
    "        if (n%2==0)or(n%3==0):\n",
    "            print(n,end=\" \")    \n",
    "num=int(input(\"Enter the number:  \"))\n",
    "print(even(num))\n",
    "            "
   ]
  },
  {
   "cell_type": "code",
   "execution_count": null,
   "metadata": {},
   "outputs": [],
   "source": []
  },
  {
   "cell_type": "code",
   "execution_count": null,
   "metadata": {},
   "outputs": [],
   "source": []
  }
 ],
 "metadata": {
  "kernelspec": {
   "display_name": "Python 3",
   "language": "python",
   "name": "python3"
  },
  "language_info": {
   "codemirror_mode": {
    "name": "ipython",
    "version": 3
   },
   "file_extension": ".py",
   "mimetype": "text/x-python",
   "name": "python",
   "nbconvert_exporter": "python",
   "pygments_lexer": "ipython3",
   "version": "3.9.1"
  }
 },
 "nbformat": 4,
 "nbformat_minor": 4
}
