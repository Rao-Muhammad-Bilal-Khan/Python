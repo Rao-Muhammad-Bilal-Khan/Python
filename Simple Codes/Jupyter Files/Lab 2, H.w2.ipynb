{
 "cells": [
  {
   "cell_type": "code",
   "execution_count": 3,
   "metadata": {},
   "outputs": [
    {
     "name": "stdout",
     "output_type": "stream",
     "text": [
      "Write the value which you want to convert to Fahrenheit  1\n",
      "33.8\n"
     ]
    }
   ],
   "source": [
    "import math\n",
    "temp_cent=int(input(\"Write the value which you want to convert to Fahrenheit  \"))\n",
    "float(temp_cent)\n",
    "a=9.0/5.0\n",
    "b=(temp_cent*a)\n",
    "c=b+32.0\n",
    "print (c)\n"
   ]
  }
 ],
 "metadata": {
  "kernelspec": {
   "display_name": "Python 3",
   "language": "python",
   "name": "python3"
  },
  "language_info": {
   "codemirror_mode": {
    "name": "ipython",
    "version": 3
   },
   "file_extension": ".py",
   "mimetype": "text/x-python",
   "name": "python",
   "nbconvert_exporter": "python",
   "pygments_lexer": "ipython3",
   "version": "3.9.1"
  }
 },
 "nbformat": 4,
 "nbformat_minor": 4
}
