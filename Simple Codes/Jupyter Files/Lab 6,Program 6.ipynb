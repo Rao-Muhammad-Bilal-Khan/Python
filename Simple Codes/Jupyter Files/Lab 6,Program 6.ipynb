{
 "cells": [
  {
   "cell_type": "code",
   "execution_count": 2,
   "metadata": {},
   "outputs": [
    {
     "name": "stdout",
     "output_type": "stream",
     "text": [
      "Enter month number: 11\n",
      "Nov\n",
      "None\n"
     ]
    }
   ],
   "source": [
    "def month(mon):\n",
    "    if (mon==1):\n",
    "        print(\"Jan\")\n",
    "    elif(mon==2):\n",
    "        print(\"Feb\")\n",
    "    elif(mon==3):\n",
    "        print(\"Mar\")\n",
    "    elif(mon==4):\n",
    "        print(\"Apr\")\n",
    "    elif(mon==5):\n",
    "        print(\"May\")\n",
    "    elif(mon==6):\n",
    "        print(\"Jun\")\n",
    "    elif(mon==7):\n",
    "        print(\"Jul\")\n",
    "    elif(mon==8):\n",
    "        print(\"Aug\")\n",
    "    elif(mon==9):\n",
    "        print(\"Sep\")\n",
    "    elif(mon==10):\n",
    "        print(\"Oct\")\n",
    "    elif(mon==11):\n",
    "        print(\"Nov\")\n",
    "    elif(mon==12):\n",
    "        print(\"Dec\")\n",
    "mon=int(input(\"Enter month number: \"))        \n",
    "print(month(mon))\n",
    "        "
   ]
  },
  {
   "cell_type": "code",
   "execution_count": null,
   "metadata": {},
   "outputs": [],
   "source": []
  }
 ],
 "metadata": {
  "kernelspec": {
   "display_name": "Python 3",
   "language": "python",
   "name": "python3"
  },
  "language_info": {
   "codemirror_mode": {
    "name": "ipython",
    "version": 3
   },
   "file_extension": ".py",
   "mimetype": "text/x-python",
   "name": "python",
   "nbconvert_exporter": "python",
   "pygments_lexer": "ipython3",
   "version": "3.9.1"
  }
 },
 "nbformat": 4,
 "nbformat_minor": 4
}
