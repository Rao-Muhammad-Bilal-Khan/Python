{
 "cells": [
  {
   "cell_type": "code",
   "execution_count": 2,
   "metadata": {},
   "outputs": [
    {
     "name": "stdout",
     "output_type": "stream",
     "text": [
      "Enter you name: Muhammad Bilal Khan\n",
      "Enter you Father's name: Muhammad Asif Jawed\n",
      "Enter your Roll Number: 20B-069-CS\n",
      "Enter the name of first subject: Eng\n",
      "Enter marks of the first subject: 80\n",
      "Enter the name of second subject: Maths\n",
      "Enter marks of the second subject: 80\n",
      "Enter the name of third subject: ISl\n",
      "Enter marks of the third subject: 80\n",
      "Enter the name of fourth subject: Phy\n",
      "Enter marks of the fourth subject: 80\n",
      "Enter the name of fifth subject: Comp\n",
      "Enter marks of the fifth subject: 80\n",
      "Student Name:  Muhammad Bilal Khan\n",
      "Father Name:  Muhammad Asif Jawed\n",
      "Roll Number:  20B-069-CS\n",
      "Percentage is:  80.0\n",
      "The total numbers are:  400\n",
      "Grade: A\n"
     ]
    }
   ],
   "source": [
    "name=input(\"Enter you name: \")\n",
    "father_name=input(\"Enter you Father's name: \")\n",
    "roll_no=input(\"Enter your Roll Number: \")\n",
    "\n",
    "sub1=str(input(\"Enter the name of first subject: \"))\n",
    "sub1_marks=int(input(\"Enter marks of the first subject: \"))\n",
    "sub2=str(input(\"Enter the name of second subject: \"))\n",
    "sub2_marks=int(input(\"Enter marks of the second subject: \"))\n",
    "sub3=str(input(\"Enter the name of third subject: \"))\n",
    "sub3_marks=int(input(\"Enter marks of the third subject: \"))\n",
    "sub4=str(input(\"Enter the name of fourth subject: \"))\n",
    "sub4_marks=int(input(\"Enter marks of the fourth subject: \"))\n",
    "sub5=str(input(\"Enter the name of fifth subject: \"))\n",
    "sub5_marks=int(input(\"Enter marks of the fifth subject: \"))\n",
    "\n",
    "per_centage=(sub1_marks+sub2_marks+sub3_marks+sub4_marks+sub5_marks)*100/500\n",
    "avg=(sub1_marks+sub2_marks+sub3_marks+sub4_marks+sub5_marks)/5\n",
    "total=sub1_marks+sub2_marks+sub3_marks+sub4_marks+sub5_marks\n",
    "\n",
    "print(\"Student Name: \",name)\n",
    "print(\"Father Name: \",father_name)\n",
    "print(\"Roll Number: \",roll_no)\n",
    "print(\"Percentage is: \",per_centage)\n",
    "print(\"The total numbers are: \",total)\n",
    "\n",
    "if(avg==90):\n",
    "    print(\"Grade: A*\")\n",
    "elif(avg==80):\n",
    "    print(\"Grade: A\")\n",
    "elif(avg==70):\n",
    "    print(\"Grade: B\")\n",
    "elif(avg==60):\n",
    "    print(\"Grade: C\")\n",
    "else:\n",
    "    print(\"Grade: F\")\n",
    "\n",
    "\n"
   ]
  },
  {
   "cell_type": "code",
   "execution_count": null,
   "metadata": {},
   "outputs": [],
   "source": []
  }
 ],
 "metadata": {
  "kernelspec": {
   "display_name": "Python 3",
   "language": "python",
   "name": "python3"
  },
  "language_info": {
   "codemirror_mode": {
    "name": "ipython",
    "version": 3
   },
   "file_extension": ".py",
   "mimetype": "text/x-python",
   "name": "python",
   "nbconvert_exporter": "python",
   "pygments_lexer": "ipython3",
   "version": "3.9.1"
  }
 },
 "nbformat": 4,
 "nbformat_minor": 4
}
