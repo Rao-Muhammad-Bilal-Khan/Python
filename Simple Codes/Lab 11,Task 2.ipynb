{
 "cells": [
  {
   "cell_type": "code",
   "execution_count": 2,
   "metadata": {},
   "outputs": [
    {
     "name": "stdout",
     "output_type": "stream",
     "text": [
      "Roll the dice\n",
      "You Rolled the Dice  3\n",
      "Enter yes yo roll the dice again or stop: yes\n",
      "You Rolled the Dice  3\n",
      "Enter yes yo roll the dice again or stop: no\n"
     ]
    }
   ],
   "source": [
    "import random\n",
    "print(\"Roll the dice\")\n",
    "roll=random.randint(1,6)\n",
    "while True:\n",
    "    print(\"You Rolled the Dice \",roll)\n",
    "    roll=random.randint(1,6)\n",
    "    user_input=(input(\"Enter yes yo roll the dice again or stop: \"))\n",
    "    if user_input==\"no\":\n",
    "        break\n",
    "    else:\n",
    "        roll=random.randint(1,6)\n",
    "            "
   ]
  },
  {
   "cell_type": "code",
   "execution_count": 4,
   "metadata": {},
   "outputs": [
    {
     "name": "stdout",
     "output_type": "stream",
     "text": [
      "['$']\n",
      "There is a match \n"
     ]
    }
   ],
   "source": [
    "import re\n",
    "txt=\"The main 27 + # $ in Spain\"\n",
    "x=re.findall(\"\\AThe\",txt)\n",
    "\n",
    "x=re.findall(\"n\\bSpain\",txt)\n",
    "\n",
    "x=re.findall(\"nain\\b\",txt)\n",
    "\n",
    "x=re.findall(\"\\d\",txt)\n",
    "\n",
    "x=re.findall(\"\\s\",txt)\n",
    "\n",
    "x=re.findall(\"\\w\",txt)\n",
    "\n",
    "x=re.findall(\"Spain\\Z\",txt)\n",
    "\n",
    "x=re.findall(\"[arn]\",txt)\n",
    "\n",
    "x=re.findall(\"[arn]\",txt)\n",
    "\n",
    "x=re.findall(\"[0127]\",txt)\n",
    "\n",
    "x=re.findall(\"[0-5][0-9]\",txt)\n",
    "\n",
    "x=re.findall(\"[$]\",txt)\n",
    "print(x)\n",
    "if x:\n",
    "    print(\"There is a match \")\n",
    "else:\n",
    "    print(\"No match\")\n"
   ]
  },
  {
   "cell_type": "code",
   "execution_count": 6,
   "metadata": {},
   "outputs": [
    {
     "name": "stdout",
     "output_type": "stream",
     "text": [
      "7\n",
      "3\n",
      "0\n",
      "1\n"
     ]
    }
   ],
   "source": [
    "a=0\n",
    "if a==0:\n",
    "    b=1\n",
    "def function(c):\n",
    "    d=3\n",
    "    print(c)\n",
    "    print(d)\n",
    "function(7)\n",
    "print(a)\n",
    "print(b)"
   ]
  },
  {
   "cell_type": "code",
   "execution_count": null,
   "metadata": {},
   "outputs": [],
   "source": []
  }
 ],
 "metadata": {
  "kernelspec": {
   "display_name": "Python 3",
   "language": "python",
   "name": "python3"
  },
  "language_info": {
   "codemirror_mode": {
    "name": "ipython",
    "version": 3
   },
   "file_extension": ".py",
   "mimetype": "text/x-python",
   "name": "python",
   "nbconvert_exporter": "python",
   "pygments_lexer": "ipython3",
   "version": "3.9.1"
  }
 },
 "nbformat": 4,
 "nbformat_minor": 4
}
